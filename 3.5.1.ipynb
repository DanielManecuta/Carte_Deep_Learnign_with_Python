{
 "cells": [
  {
   "cell_type": "code",
   "execution_count": 1,
   "metadata": {},
   "outputs": [],
   "source": [
    "from keras.datasets import reuters\n",
    "\n",
    "(train_data, train_labels), (test_data, test_labels) = reuters.load_data(num_words=10000)"
   ]
  },
  {
   "cell_type": "code",
   "execution_count": 2,
   "metadata": {},
   "outputs": [
    {
     "data": {
      "text/plain": [
       "8982"
      ]
     },
     "execution_count": 2,
     "metadata": {},
     "output_type": "execute_result"
    }
   ],
   "source": [
    "len(train_data)"
   ]
  },
  {
   "cell_type": "code",
   "execution_count": 3,
   "metadata": {},
   "outputs": [
    {
     "data": {
      "text/plain": [
       "2246"
      ]
     },
     "execution_count": 3,
     "metadata": {},
     "output_type": "execute_result"
    }
   ],
   "source": [
    "len(test_data)"
   ]
  },
  {
   "cell_type": "code",
   "execution_count": 4,
   "metadata": {},
   "outputs": [
    {
     "data": {
      "text/plain": [
       "[1,\n",
       " 53,\n",
       " 648,\n",
       " 26,\n",
       " 14,\n",
       " 749,\n",
       " 26,\n",
       " 39,\n",
       " 6207,\n",
       " 5466,\n",
       " 14,\n",
       " 4922,\n",
       " 4001,\n",
       " 86,\n",
       " 147,\n",
       " 72,\n",
       " 11,\n",
       " 14,\n",
       " 321,\n",
       " 61,\n",
       " 11,\n",
       " 29,\n",
       " 53,\n",
       " 19,\n",
       " 965,\n",
       " 150,\n",
       " 14,\n",
       " 19,\n",
       " 492,\n",
       " 150,\n",
       " 39,\n",
       " 12,\n",
       " 3200,\n",
       " 3859,\n",
       " 14,\n",
       " 32,\n",
       " 3327,\n",
       " 5756,\n",
       " 86,\n",
       " 251,\n",
       " 59,\n",
       " 11,\n",
       " 14,\n",
       " 193,\n",
       " 47,\n",
       " 11,\n",
       " 123,\n",
       " 48,\n",
       " 1642,\n",
       " 346,\n",
       " 9,\n",
       " 29,\n",
       " 39,\n",
       " 235,\n",
       " 338,\n",
       " 46,\n",
       " 5,\n",
       " 2,\n",
       " 323,\n",
       " 5,\n",
       " 187,\n",
       " 5532,\n",
       " 15,\n",
       " 9,\n",
       " 4315,\n",
       " 6675,\n",
       " 15,\n",
       " 58,\n",
       " 191,\n",
       " 26,\n",
       " 90,\n",
       " 67,\n",
       " 773,\n",
       " 105,\n",
       " 1642,\n",
       " 346,\n",
       " 9,\n",
       " 29,\n",
       " 39,\n",
       " 235,\n",
       " 46,\n",
       " 7,\n",
       " 2,\n",
       " 304,\n",
       " 5,\n",
       " 1929,\n",
       " 4016,\n",
       " 15,\n",
       " 9,\n",
       " 4527,\n",
       " 5086,\n",
       " 15,\n",
       " 58,\n",
       " 158,\n",
       " 26,\n",
       " 90,\n",
       " 67,\n",
       " 773,\n",
       " 17,\n",
       " 12]"
      ]
     },
     "execution_count": 4,
     "metadata": {},
     "output_type": "execute_result"
    }
   ],
   "source": [
    "train_data[7] #10"
   ]
  }
 ],
 "metadata": {
  "kernelspec": {
   "display_name": "Python 3 (ipykernel)",
   "language": "python",
   "name": "python3"
  },
  "language_info": {
   "codemirror_mode": {
    "name": "ipython",
    "version": 3
   },
   "file_extension": ".py",
   "mimetype": "text/x-python",
   "name": "python",
   "nbconvert_exporter": "python",
   "pygments_lexer": "ipython3",
   "version": "3.11.4"
  }
 },
 "nbformat": 4,
 "nbformat_minor": 2
}
